{
 "cells": [
  {
   "cell_type": "markdown",
   "metadata": {
    "colab_type": "text",
    "id": "ASfGeMfI6Kgs"
   },
   "source": [
    "### Use Word2Vec to train your own model on a dataset.\n",
    "\n",
    "1) **Optional** - Find your own dataset of documents to train you model on. You are going to need a lot of data, so it's probably not realistic to scrape data for this assignment given the time constraints that we're working under. Try to find a dataset that has > 5000 documents.\n",
    "\n",
    "- If you can't find a dataset to use try this one: <https://www.kaggle.com/c/quora-question-pairs>\n",
    "\n",
    "2) Clean/Tokenize the documents.\n",
    "\n",
    "3) Vectorize the model using Word2Vec and explore the results using each of the following at least one time:\n",
    "\n",
    "- your_model.wv.most_similar()\n",
    "- your_model.wv.similarity()\n",
    "- your_model.wv.doesn't_match()"
   ]
  },
  {
   "cell_type": "markdown",
   "metadata": {},
   "source": [
    "### Word2Vec with Movie Review Dataset"
   ]
  },
  {
   "cell_type": "code",
   "execution_count": 12,
   "metadata": {
    "colab": {},
    "colab_type": "code",
    "id": "wy5lYo4K8wEy"
   },
   "outputs": [
    {
     "data": {
      "text/html": [
       "<div>\n",
       "<style scoped>\n",
       "    .dataframe tbody tr th:only-of-type {\n",
       "        vertical-align: middle;\n",
       "    }\n",
       "\n",
       "    .dataframe tbody tr th {\n",
       "        vertical-align: top;\n",
       "    }\n",
       "\n",
       "    .dataframe thead th {\n",
       "        text-align: right;\n",
       "    }\n",
       "</style>\n",
       "<table border=\"1\" class=\"dataframe\">\n",
       "  <thead>\n",
       "    <tr style=\"text-align: right;\">\n",
       "      <th></th>\n",
       "      <th>review</th>\n",
       "      <th>sentiment</th>\n",
       "    </tr>\n",
       "  </thead>\n",
       "  <tbody>\n",
       "    <tr>\n",
       "      <th>0</th>\n",
       "      <td>My family and I normally do not watch local mo...</td>\n",
       "      <td>1</td>\n",
       "    </tr>\n",
       "    <tr>\n",
       "      <th>1</th>\n",
       "      <td>Believe it or not, this was at one time the wo...</td>\n",
       "      <td>0</td>\n",
       "    </tr>\n",
       "    <tr>\n",
       "      <th>2</th>\n",
       "      <td>After some internet surfing, I found the \"Home...</td>\n",
       "      <td>0</td>\n",
       "    </tr>\n",
       "    <tr>\n",
       "      <th>3</th>\n",
       "      <td>One of the most unheralded great works of anim...</td>\n",
       "      <td>1</td>\n",
       "    </tr>\n",
       "    <tr>\n",
       "      <th>4</th>\n",
       "      <td>It was the Sixties, and anyone with long hair ...</td>\n",
       "      <td>0</td>\n",
       "    </tr>\n",
       "  </tbody>\n",
       "</table>\n",
       "</div>"
      ],
      "text/plain": [
       "                                              review  sentiment\n",
       "0  My family and I normally do not watch local mo...          1\n",
       "1  Believe it or not, this was at one time the wo...          0\n",
       "2  After some internet surfing, I found the \"Home...          0\n",
       "3  One of the most unheralded great works of anim...          1\n",
       "4  It was the Sixties, and anyone with long hair ...          0"
      ]
     },
     "execution_count": 12,
     "metadata": {},
     "output_type": "execute_result"
    }
   ],
   "source": [
    "##### Your Code Here #####\n",
    "import pandas as pd\n",
    "\n",
    "df = pd.read_csv('movie_data.csv')\n",
    "df.head()"
   ]
  },
  {
   "cell_type": "code",
   "execution_count": 13,
   "metadata": {},
   "outputs": [
    {
     "data": {
      "text/plain": [
       "(10000, 2)"
      ]
     },
     "execution_count": 13,
     "metadata": {},
     "output_type": "execute_result"
    }
   ],
   "source": [
    "df = df.loc[0:9999,:]\n",
    "df.shape"
   ]
  },
  {
   "cell_type": "code",
   "execution_count": 14,
   "metadata": {},
   "outputs": [
    {
     "data": {
      "text/html": [
       "<div>\n",
       "<style scoped>\n",
       "    .dataframe tbody tr th:only-of-type {\n",
       "        vertical-align: middle;\n",
       "    }\n",
       "\n",
       "    .dataframe tbody tr th {\n",
       "        vertical-align: top;\n",
       "    }\n",
       "\n",
       "    .dataframe thead th {\n",
       "        text-align: right;\n",
       "    }\n",
       "</style>\n",
       "<table border=\"1\" class=\"dataframe\">\n",
       "  <thead>\n",
       "    <tr style=\"text-align: right;\">\n",
       "      <th></th>\n",
       "      <th>review</th>\n",
       "      <th>sentiment</th>\n",
       "    </tr>\n",
       "  </thead>\n",
       "  <tbody>\n",
       "    <tr>\n",
       "      <th>0</th>\n",
       "      <td>My family and I normally do not watch local mo...</td>\n",
       "      <td>1</td>\n",
       "    </tr>\n",
       "    <tr>\n",
       "      <th>1</th>\n",
       "      <td>Believe it or not, this was at one time the wo...</td>\n",
       "      <td>0</td>\n",
       "    </tr>\n",
       "    <tr>\n",
       "      <th>2</th>\n",
       "      <td>After some internet surfing, I found the \"Home...</td>\n",
       "      <td>0</td>\n",
       "    </tr>\n",
       "    <tr>\n",
       "      <th>3</th>\n",
       "      <td>One of the most unheralded great works of anim...</td>\n",
       "      <td>1</td>\n",
       "    </tr>\n",
       "    <tr>\n",
       "      <th>4</th>\n",
       "      <td>It was the Sixties, and anyone with long hair ...</td>\n",
       "      <td>0</td>\n",
       "    </tr>\n",
       "  </tbody>\n",
       "</table>\n",
       "</div>"
      ],
      "text/plain": [
       "                                              review  sentiment\n",
       "0  My family and I normally do not watch local mo...          1\n",
       "1  Believe it or not, this was at one time the wo...          0\n",
       "2  After some internet surfing, I found the \"Home...          0\n",
       "3  One of the most unheralded great works of anim...          1\n",
       "4  It was the Sixties, and anyone with long hair ...          0"
      ]
     },
     "execution_count": 14,
     "metadata": {},
     "output_type": "execute_result"
    }
   ],
   "source": [
    "df.head()"
   ]
  },
  {
   "cell_type": "code",
   "execution_count": 15,
   "metadata": {},
   "outputs": [
    {
     "name": "stdout",
     "output_type": "stream",
     "text": [
      "[['My', 'family', 'and', 'I', 'normally', 'do', 'not', 'watch', 'local', 'movies', 'for', 'the', 'simple', 'reason', 'that', 'they', 'are', 'poorly', 'made', ',', 'they', 'lack', 'the', 'depth', ',', 'and', 'just', 'not', 'worth', 'our', 'time.', '<', 'br', '/', '>', '<', 'br', '/', '>', 'The', 'trailer', 'of', '``', 'Nasaan', 'ka', 'man', \"''\", 'caught', 'my', 'attention', ',', 'my', 'daughter', 'in', 'law', \"'s\", 'and', 'daughter', \"'s\", 'so', 'we', 'took', 'time', 'out', 'to', 'watch', 'it', 'this', 'afternoon', '.', 'The', 'movie', 'exceeded', 'our', 'expectations', '.', 'The', 'cinematography', 'was', 'very', 'good', ',', 'the', 'story', 'beautiful', 'and', 'the', 'acting', 'awesome', '.', 'Jericho', 'Rosales', 'was', 'really', 'very', 'good', ',', 'so', \"'s\", 'Claudine', 'Barretto', '.', 'The', 'fact', 'that', 'I', 'despised', 'Diether', 'Ocampo', 'proves', 'he', 'was', 'effective', 'at', 'his', 'role', '.', 'I', 'have', 'never', 'been', 'this', 'touched', ',', 'moved', 'and', 'affected', 'by', 'a', 'local', 'movie', 'before', '.', 'Imagine', 'a', 'cynic', 'like', 'me', 'dabbing', 'my', 'eyes', 'at', 'the', 'end', 'of', 'the', 'movie', '?', 'Congratulations', 'to', 'Star', 'Cinema', '!', '!', 'Way', 'to', 'go', ',', 'Jericho', 'and', 'Claudine', '!', '!'], ['Believe', 'it', 'or', 'not', ',', 'this', 'was', 'at', 'one', 'time', 'the', 'worst', 'movie', 'I', 'had', 'ever', 'seen', '.', 'Since', 'that', 'time', ',', 'I', 'have', 'seen', 'many', 'more', 'movies', 'that', 'are', 'worse', '(', 'how', 'is', 'it', 'possible', '?', '?', ')', 'Therefore', ',', 'to', 'be', 'fair', ',', 'I', 'had', 'to', 'give', 'this', 'movie', 'a', '2', 'out', 'of', '10', '.', 'But', 'it', 'was', 'a', 'tough', 'call', '.'], ['After', 'some', 'internet', 'surfing', ',', 'I', 'found', 'the', '``', 'Homefront', \"''\", 'series', 'on', 'DVD', 'at', 'ioffer.com', '.', 'Before', 'anyone', 'gets', 'excited', ',', 'the', 'DVD', 'set', 'I', 'received', 'was', 'burned', 'by', 'an', 'amateur', 'from', 'home', 'video', 'tapes', 'recorded', 'off', 'of', 'their', 'TV', '15', 'years', 'ago', '.', 'The', 'resolution', 'and', 'quality', 'are', 'poor', '.', 'The', 'images', 'look', 'like', 'you', 'would', 'expect', 'old', 're-recorded', 'video', 'to', 'look', '.', 'Although', 'the', 'commercials', 'were', 'edited', 'out', ',', 'the', 'ending', 'credits', 'of', 'each', 'episode', 'still', 'have', 'voice-over', 'announcements', 'for', 'the', 'segway', 'into', 'the', 'ABC', 'news', 'program', '``', 'Nightline', \"''\", ',', 'complete', 'with', 'the', 'top', 'news', 'headlines', 'from', 'the', 'early', '1990', \"'s\", '.', 'Even', 'with', 'the', 'poor', 'image', 'quality', ',', 'the', 'shows', 'were', 'watch-able', 'and', 'the', 'sound', 'quality', 'was', 'fine.', '<', 'br', '/', '>', '<', 'br', '/', '>', 'To', 'this', 'show', \"'s\", 'credit', ',', 'the', 'casting', 'was', 'nearly', 'perfect', '.', 'Everyone', 'was', 'believable', 'and', 'really', 'looked', 'the', 'part', '.', 'Their', 'acting', 'was', 'also', 'above', 'average', '.', 'The', 'role', 'of', 'Jeff', 'Metcalf', 'is', 'played', 'particularly', 'well', 'by', 'Kyle', 'Chandler', '(', 'most', 'recently', 'seen', 'in', 'the', '2005', 'remake', 'of', 'King', 'Kong', ')', '.', 'The', 'period', 'costumes', 'were', 'very', 'authentic', 'as', 'were', 'the', 'sets', ',', 'especially', 'the', '1940s', 'kitchens', 'with', 'vintage', 'appliances', 'and', 'décor', '.', 'The', 'direction', 'was', 'also', 'creative', 'and', 'different', 'for', 'a', 'TV', 'show', 'at', 'that', 'time', '.', 'For', 'example', ',', 'conversations', 'between', 'characters', 'were', 'sometimes', 'inter-cut', 'with', 'conversations', 'about', 'the', 'same', 'subject', 'between', 'other', 'characters', 'in', 'different', 'scenes', '.', 'The', 'dialog', 'of', 'the', 'different', 'conversations', 'was', 'kept', 'fluid', 'despite', 'cutting', 'back', 'and', 'fourth', 'between', 'the', 'different', 'characters', 'and', 'locations', '.', 'That', 'takes', 'good', 'direction', 'and', 'editing', 'and', 'they', 'made', 'it', 'work', 'in', 'this', 'case.', '<', 'br', '/', '>', '<', 'br', '/', '>', 'As', 'I', 'started', 'watching', 'this', 'series', 'again', 'I', 'suddenly', 'remembered', 'why', 'I', 'lost', 'interest', 'in', 'it', '15', 'years', 'ago', '.', 'Despite', 'all', 'the', 'ingredients', 'for', 'a', 'fine', 'show', ',', 'the', 'plots', 'and', 'story', 'lines', 'are', 'disappointing', 'and', 'confusing', 'right', 'from', 'the', 'start', '.', 'For', 'one', 'thing', ',', 'the', 'name', 'of', 'the', 'show', 'itself', 'is', 'totally', 'misleading', '.', 'When', 'WWII', 'ended', 'in', '1945', ',', 'there', 'was', 'no', 'more', 'fighting', 'so', 'obviously', 'there', 'was', 'no', 'longer', 'a', '``', 'homefront', \"''\", 'either', '.', 'Curiously', ',', 'the', 'first', 'episode', 'of', 'the', 'show', '``', 'Homefront', \"''\", 'begins', 'in', '1945', 'after', 'the', 'war', 'had', 'ended', '.', 'That', \"'s\", 'like', 'shooting', 'the', 'first', 'episode', 'of', '``', 'Gilligan', \"'s\", 'Island', \"''\", 'showing', 'the', 'castaways', 'being', 'rescued', '.', 'The', 'whole', 'premise', 'of', 'the', 'show', \"'s\", 'namesake', 'is', 'completely', 'lost', '.', 'I', 'still', 'held', 'on', 'to', 'hope', 'with', 'the', 'possibility', 'of', 'the', 'rest', 'of', 'the', 'series', 'being', 'a', 'flashback', 'but', 'no', ',', 'the', 'entire', 'show', 'takes', 'place', 'from', '1946', 'through', '1948', '.', 'Additionally', ',', 'this', 'series', 'fails', 'miserably', 'in', 'any', 'attempt', 'to', 'accurately', 'portray', 'any', 'historical', 'events', 'of', 'the', 'late', '1940', \"'s\", '.', 'By', 'the', 'third', 'episode', ',', 'it', 'becomes', 'obvious', 'that', 'this', 'series', 'was', 'nothing', 'more', 'than', 'a', 'thinly', 'veiled', 'vehicle', 'for', 'an', 'ultra', 'left-wing', 'political', 'agenda', '.', 'The', 'show', 'is', 'set', 'in', 'River', 'Run', 'Ohio', ',', 'near', 'Toledo', '.', 'However', ',', 'the', 'show', \"'s\", 'ongoing', 'racism', 'theme', 'makes', 'it', 'look', 'more', 'like', 'Jackson', 'Mississippi', 'than', 'Ohio', '.', 'Part', 'of', 'the', 'ensemble', 'cast', 'are', 'Dick', 'Williams', ',', 'Hattie', 'Winston', 'and', 'Sterling', 'Macer', 'Jr.', 'who', 'portray', 'the', 'Davis', 'family', '.', 'Much', 'of', 'the', 'series', 'shows', 'the', 'Davis', 'family', 'being', 'discriminated', 'against', 'by', 'the', 'evil', '``', 'whites', \"''\", 'to', 'the', 'point', 'of', 'being', 'ridiculous', 'and', 'totally', 'absurd', 'if', 'not', 'laughable', '.', 'The', 'racism', 'card', 'has', 'been', 'played', 'and', 'over', 'played', 'by', 'Hollywood', 'now', 'for', 'over', '40', 'years', '.', 'We', 'get', 'it', '.', 'We', \"'re\", 'also', 'tired', 'of', 'having', 'our', 'noses', 'rubbed', 'in', 'it', 'on', 'a', 'daily', 'basis', '.', 'The', 'subject', 'of', 'racism', 'is', 'also', 'unpopular', 'with', 'viewers', 'and', 'it', 'is', 'the', 'kiss', 'of', 'death', 'for', 'any', 'show', ',', 'as', 'it', 'was', 'for', '``', 'Homefront', \"''\", '.', 'The', 'acting', 'talents', 'of', 'Williams', ',', 'Winston', 'and', 'Macer', 'were', 'wasted', 'in', 'their', 'roles', 'as', 'the', 'stereotypical', '``', 'frightened', '/', 'angry', 'black', 'family', \"''\", '.', 'The', 'wildly', 'exaggerated', 'racism', 'in', 'this', 'series', 'makes', 'it', 'look', 'like', 'everyone', 'in', 'Ohio', 'was', 'a', 'KKK', 'member', 'or', 'something', '.', 'The', 'racism', 'issue', 'could', 'have', 'been', 'addressed', 'in', 'this', 'show', 'in', 'a', 'single', 'episode', 'with', 'a', 'simple', 'punch', 'in', 'the', 'nose', 'or', 'fist-fight', 'in', 'which', 'a', 'bigot', 'gets', 'a', 'well', 'deserved', 'thrashing', ',', 'and', 'leave', 'it', 'at', 'that', '.', 'Devoting', 'a', 'major', 'portion', 'of', 'the', 'series', 'to', 'the', 'racism', 'thing', 'gets', 'really', 'old', 'really', 'quick', 'and', 'its', 'just', 'plain', 'stupid.', '<', 'br', '/', '>', '<', 'br', '/', '>', 'In', 'yet', 'another', 'ridiculous', 'plot', 'line', ',', 'the', 'big', 'boss', 'of', 'a', 'local', 'factory', '(', 'Ken', 'Jenkins', ')', 'is', 'portrayed', 'as', 'an', 'Ebenezer', 'Scrooge', 'like', 'character', 'who', 'is', 'against', 'pensions', 'and', 'raises', 'and', 'is', 'unconcerned', 'about', 'acid', 'dripping', 'on', 'his', 'employees', '.', 'The', 'workers', 'revolt', 'and', 'take', 'over', 'the', 'factory', 'in', 'a', 'blatant', 'pro-communist', 'propaganda', 'message', 'to', 'the', 'viewer.', '<', 'br', '/', '>', '<', 'br', '/', '>', 'Personally', ',', 'I', 'think', 'this', 'series', 'had', 'great', 'potential', '.', 'The', 'writers', 'could', 'have', 'easily', 'placed', 'the', 'timeline', 'in', '1941', '\\x96', '1945', 'as', 'the', 'title', 'suggests', 'and', 'shown', 'the', 'hardships', 'of', 'food', 'and', 'gas', 'rationing', 'and', 'working', '14', 'hour', 'days', 'at', 'war', 'factories', '.', 'Of', 'course', 'the', 'loss', 'of', 'brothers', ',', 'sons', 'and', 'husbands', 'fighting', 'overseas', 'would', 'have', 'also', 'added', 'drama', '.', 'The', 'situation', 'was', 'also', 'perfect', 'for', 'writing', 'in', 'special', 'guest', 'stars', 'as', 'military', 'or', 'USO', 'personnel', 'passing', 'through', 'their', 'town', 'during', 'training', 'or', 'en-route', 'to', 'Europe', 'or', 'the', 'Pacific', '.', 'The', 'possibilities', 'for', 'good', 'story', 'lines', 'and', 'plots', 'are', 'endless', '.', 'But', 'no', ',', 'the', 'writers', 'of', 'Homefront', '(', 'David', 'Assael', 'and', 'James', 'Grissom', ')', 'completely', 'ignored', 'any', 'relevant', 'or', 'interesting', 'plots', '.', 'Instead', ',', 'they', 'totally', 'missed', 'the', 'point', 'and', 'strayed', 'into', 'a', 'bizarre', 'and', 'irrelevant', 'obsession', 'with', 'racism', 'and', 'left-wing', 'politics', '.', 'It', 'would', 'be', 'unfair', 'to', 'the', 'actors', 'to', 'condemn', 'the', 'entire', 'series', 'but', 'the', 'plots', 'and', 'situations', 'in', 'which', 'they', 'were', 'placed', 'are', 'total', 'garbage', '.'], ['One', 'of', 'the', 'most', 'unheralded', 'great', 'works', 'of', 'animation', '.', 'Though', 'it', 'makes', 'the', 'most', 'sophisticated', 'use', 'of', 'the', '``', 'cut-out', \"''\", 'method', 'of', 'animation', '(', 'a', 'la', '``', 'South', 'Park', \"''\", ')', ',', 'the', 'real', 'talent', 'behind', '``', 'Twice', 'Upon', 'a', 'Time', \"''\", 'are', 'the', 'vocal', 'characterizations', ',', 'with', 'Lorenzo', 'Music', \"'s\", '(', 'Carlton', 'from', 'TV', \"'s\", '``', 'Rhoda', \"''\", ')', 'Woody', 'Allen-ish', 'Ralph-the-all-purpose-Animal', 'being', 'the', 'centerpiece', '.', 'The', '``', 'accidental', 'nightmare', \"''\", 'sequence', 'is', 'doubtless', 'one', 'of', 'the', 'best', 'pieces', 'of', 'animation', 'ever', 'filmed', '.'], ['It', 'was', 'the', 'Sixties', ',', 'and', 'anyone', 'with', 'long', 'hair', 'and', 'a', 'hip', ',', 'distant', 'attitude', 'could', 'get', 'money', 'to', 'make', 'a', 'movie', '.', 'That', \"'s\", 'how', 'Michael', 'Sarne', ',', 'director', 'of', 'this', 'colossal', 'flop', ',', 'was', 'able', 'to', 'get', 'the', 'job', '.', 'Sarne', 'is', 'one', 'of', 'the', 'most', 'supremely', 'untalented', 'people', 'ever', 'given', 'a', 'dollar', 'to', 'make', 'a', 'movie', '.', 'In', 'fact', ',', 'the', 'whole', 'studio', 'must', 'have', 'been', 'tricked', 'into', 'agreeing', 'to', 'hire', 'a', 'guy', 'who', 'had', 'made', 'exactly', 'one', 'previous', 'film', ',', 'a', 'terribly', 'precious', \"60's-hip\", 'black', 'and', 'white', 'featurette', 'called', 'Joanna', '.', 'That', 'film', 'starred', 'the', 'similarly', 'talentless', 'actress/waif', 'Genevieve', 'Waite', 'who', 'could', 'barely', 'speak', 'an', 'entire', 'line', 'without', 'breaking', 'into', 'some', 'inappropriate', 'facial', 'expression', 'or', 'bat-like', 'twitter', '.', 'Sarne', ',', 'who', 'was', 'probably', 'incapable', 'of', 'directing', 'a', 'cartoon', ',', 'never', 'mind', 'a', 'big-budget', 'Hollywood', 'film', ',', 'was', 'in', 'way', 'over', 'his', 'head', '.', 'David', 'Giler', \"'s\", 'book', 'is', 'the', 'best', 'place', 'to', 'go', 'to', 'find', 'out', 'how', 'the', 'faux-infant', 'terrible', 'Sarne', 'was', 'able', 'to', 'pull', 'the', 'wool', 'over', 'everyone', \"'s\", 'eyes', '.', 'If', 'there', 'is', 'ever', 'an', 'historical', 'marker', 'which', 'indicates', 'the', 'superficiality', 'and', 'shallowness', 'of', 'an', 'era', ',', 'Myra', 'Breckinridge', 'provides', 'that', 'marker', '.', 'It', 'embodies', 'the', 'emptiness', 'and', 'mindless', 'excess', 'of', 'a', 'decade', 'which', 'is', 'more', 'often', 'remembered', 'for', 'a', 'great', 'sea-change', 'in', 'the', 'body', 'politic', '.', 'Breckinridge', 'is', 'a', 'touchstone', 'of', 'another', ',', 'equally', 'important', 'vein', '.', 'Watch', 'this', 'movie', 'and', 'you', \"'ll\", 'get', 'a', 'different', 'perspective', 'on', 'the', 'less-often', 'mentioned', 'vacuity', 'of', 'spirit', 'which', 'so', 'often', 'passed', 'for', 'talent', 'during', 'those', 'years.', '<', 'br', '/', '>', '<', 'br', '/', '>', 'Many', 'reviewers', 'have', 'spoken', 'about', 'the', 'inter-cutting', 'of', 'footage', 'from', 'other', 'films', ',', 'especially', 'older', 'ones', '.', 'Some', 'actually', 'liked', 'these', 'clunky', '``', 'comments', \"''\", 'on', 'what', 'was', 'taking', 'place', 'in', 'the', 'movie', ',', 'others', 'found', 'them', 'senseless', ',', 'annoying', ',', 'and', 'obtrusive', ',', 'though', 'since', 'the', 'film', 'is', 'so', 'bad', 'itself', 'any', 'intrusion', 'would', 'have', 'to', 'be', 'an', 'improvement', '.', '<', 'br', '/', '>', '<', 'br', '/', '>', 'In', 'my', 'opinion', ',', 'the', 'real', 'reason', 'Michael', 'Sarne', 'put', 'so', 'many', 'film', 'clips', 'into', 'Myra', 'Brekinridge', 'was', 'to', 'paper', 'over', 'the', 'bottomless', 'insufficiency', 'of', 'wit', 'and', 'imagination', 'that', 'he', 'possessed', '.', 'That', 'is', 'to', 'say', ',', 'Sarne', 'was', 'so', 'imagination-challenged', 'that', 'he', 'just', 'threw', 'these', 'clips', 'in', 'to', 'fill', 'space', 'and', 'take', 'up', 'time', '.', 'They', 'were', \"n't\", 'inspiration', ',', 'they', 'were', 'desperation', '.', 'His', 'writing', 'skills', 'were', 'nonexistent', ',', 'and', 'David', 'Giler', 'had', 'wisely', 'stepped', 'away', 'from', 'the', 'project', 'as', 'one', 'might', 'from', 'a', 'ticking', 'bomb', ',', 'so', 'Sarne', 'was', 'left', 'to', 'actually', 'try', 'and', 'make', 'a', 'movie', ',', 'and', 'he', 'could', \"n't\", '.', 'It', 'was', 'beyond', 'his', 'slim', 'capabilities', '.', 'Hence', 'the', 'introduction', 'of', 'what', 'seems', 'like', 'one', 'half', 'of', 'an', 'entire', 'film', \"'s\", 'worth', 'of', 'clips', '.', 'The', 'ghosts', 'of', 'writers', 'and', 'directors', '-', 'many', 'long', 'since', 'passed', 'on', '-', 'were', 'called', 'upon', 'to', 'fix', 'this', 'calamitous', 'flopperoo', 'because', 'Sarne', 'sure', 'as', 'heck', 'was', \"n't\", 'able', 'to', '.', 'This', 'was', 'what', 'he', 'came', 'up', 'with', 'on', 'those', 'days', 'he', 'sat', 'on', 'the', 'set', 'and', 'thought', 'for', 'eight', 'hours', 'while', 'the', 'entire', 'cast', 'and', 'crew', '(', 'not', 'to', 'mention', 'the', 'producers', 'and', 'the', 'accountants', ')', 'cooled', 'their', 'heels', 'and', 'waited', 'for', 'something', ',', 'some', 'great', 'spark', 'of', 'imagination', ',', 'a', 'hint', 'of', 'originality', ',', 'a', 'soupcon', 'of', 'wit', ',', 'to', 'crackle', 'forth', 'from', 'the', 'brow', 'of', 'Zeus', '.', 'Um', ',', 'oops', '.', 'No', 'Zeus', '+', 'no', 'imagination', '+', 'no', 'sparks', '=', 'millions', 'of', 'little', 'dollar', 'bills', 'with', 'tiny', 'wings', '-', 'each', 'made', 'from', 'the', 'hundreds', 'of', 'licensing', 'agreements', 'required', 'to', 'use', 'the', 'clips', '-', 'flying', 'out', 'the', 'window', '.', 'Bye-bye', '.', '<', 'br', '/', '>', '<', 'br', '/', '>', 'As', 'for', 'myself', ',', 'I', 'hated', 'the', 'film', 'clips', '.', 'They', 'denigrated', 'Sarne', \"'s\", 'many', 'betters', ',', 'poked', 'fun', 'at', 'people', 'whose', 'talents', '-', 'even', 'those', 'whose', 'skills', 'were', 'not', 'great', '-', 'far', 'outstripped', 'the', 'abilities', 'of', 'the', 'director', 'and', 'so', 'ultimately', 'served', 'to', 'show', 'how', 'lacking', 'he', 'was', 'in', 'inspiration', ',', 'originality', '-', 'and', 'even', 'of', 'plain', 'competency', '-', 'compared', 'to', 'even', 'the', 'cheesiest', 'of', 'them', '.']]\n"
     ]
    }
   ],
   "source": [
    "from nltk.tokenize import word_tokenize\n",
    "from gensim.models.word2vec import Word2Vec\n",
    "\n",
    "sentences = [word_tokenize(text) for text in df.review]\n",
    "\n",
    "print(sentences[:5])"
   ]
  },
  {
   "cell_type": "code",
   "execution_count": 16,
   "metadata": {},
   "outputs": [
    {
     "name": "stdout",
     "output_type": "stream",
     "text": [
      "Word2Vec(vocab=84123, size=200, alpha=0.025)\n"
     ]
    }
   ],
   "source": [
    "from gensim.models.word2vec import Word2Vec\n",
    "\n",
    "model = Word2Vec(sentences, min_count=1, size=200)\n",
    "\n",
    "print(model)"
   ]
  },
  {
   "cell_type": "code",
   "execution_count": 17,
   "metadata": {},
   "outputs": [
    {
     "data": {
      "text/plain": [
       "[('Award', 0.9167477488517761),\n",
       " ('Awards', 0.8830267190933228),\n",
       " ('BAFTA', 0.8776016235351562),\n",
       " ('Globe', 0.8755573034286499),\n",
       " ('nomination', 0.8745793104171753),\n",
       " ('Picture', 0.8718630075454712),\n",
       " ('Actor', 0.8670637011528015),\n",
       " ('Golden', 0.8619368076324463),\n",
       " ('Best', 0.8599739670753479),\n",
       " ('Brothers', 0.8595072031021118)]"
      ]
     },
     "execution_count": 17,
     "metadata": {},
     "output_type": "execute_result"
    }
   ],
   "source": [
    "model.wv.most_similar('Academy')"
   ]
  },
  {
   "cell_type": "code",
   "execution_count": 18,
   "metadata": {},
   "outputs": [
    {
     "data": {
      "text/plain": [
       "0.8718629652728691"
      ]
     },
     "execution_count": 18,
     "metadata": {},
     "output_type": "execute_result"
    }
   ],
   "source": [
    "model.wv.similarity('Academy', 'Picture')"
   ]
  },
  {
   "cell_type": "code",
   "execution_count": 20,
   "metadata": {},
   "outputs": [
    {
     "data": {
      "text/plain": [
       "'cheesiest'"
      ]
     },
     "execution_count": 20,
     "metadata": {},
     "output_type": "execute_result"
    }
   ],
   "source": [
    "model.wv.doesnt_match(\"Globe Picture Best cheesiest\".split())"
   ]
  },
  {
   "cell_type": "markdown",
   "metadata": {
    "colab_type": "text",
    "id": "xkzdOZm38yQ_"
   },
   "source": [
    "### Stretch Goals:\n",
    "\n",
    "1) Use Doc2Vec to train a model on your dataset, and then provide model with a new document and let it find similar documents.\n",
    "\n",
    "2) Download the pre-trained word vectors from Google. Access the pre-trained vectors via the following link: https://code.google.com/archive/p/word2vec\n",
    "\n",
    "Load the pre-trained word vectors and train the Word2vec model\n",
    "\n",
    "Examine the first 100 keys or words of the vocabulary\n",
    "\n",
    "Outputs the vector representation for a select set of words - the words can be of your choice\n",
    "\n",
    "Examine the similarity between words - the words can be of your choice\n",
    "\n",
    "For example:\n",
    "\n",
    "model.similarity('house', 'bungalow')\n",
    "\n",
    "model.similarity('house', 'umbrella')"
   ]
  },
  {
   "cell_type": "code",
   "execution_count": 0,
   "metadata": {
    "colab": {},
    "colab_type": "code",
    "id": "Gakr5rP76IAJ"
   },
   "outputs": [],
   "source": []
  }
 ],
 "metadata": {
  "colab": {
   "collapsed_sections": [],
   "name": "LS_DS_424_Word_Embeddings_Assignment.ipynb",
   "provenance": [],
   "version": "0.3.2"
  },
  "kernelspec": {
   "display_name": "Python 3",
   "language": "python",
   "name": "python3"
  },
  "language_info": {
   "codemirror_mode": {
    "name": "ipython",
    "version": 3
   },
   "file_extension": ".py",
   "mimetype": "text/x-python",
   "name": "python",
   "nbconvert_exporter": "python",
   "pygments_lexer": "ipython3",
   "version": "3.6.7"
  }
 },
 "nbformat": 4,
 "nbformat_minor": 1
}
